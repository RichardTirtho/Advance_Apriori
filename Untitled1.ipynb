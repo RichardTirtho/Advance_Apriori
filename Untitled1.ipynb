{
 "cells": [
  {
   "cell_type": "code",
   "execution_count": 1,
   "metadata": {},
   "outputs": [],
   "source": [
    "import pandas as pd\n",
    "import numpy as np\n",
    "import matplotlib.pyplot as plt\n",
    "from fpgrowth_py import fpgrowth\n",
    "import time"
   ]
  },
  {
   "cell_type": "code",
   "execution_count": 2,
   "metadata": {},
   "outputs": [
    {
     "name": "stdout",
     "output_type": "stream",
     "text": [
      "The dimensions of the dataset are :  (406829, 9)\n",
      "---------\n",
      "  InvoiceNo StockCode                          Description  Quantity  \\\n",
      "0    536365    85123A   WHITE HANGING HEART T-LIGHT HOLDER         6   \n",
      "1    536365     71053                  WHITE METAL LANTERN         6   \n",
      "2    536365    84406B       CREAM CUPID HEARTS COAT HANGER         8   \n",
      "3    536365    84029G  KNITTED UNION FLAG HOT WATER BOTTLE         6   \n",
      "4    536365    84029E       RED WOOLLY HOTTIE WHITE HEART.         6   \n",
      "\n",
      "      InvoiceDate  UnitPrice  CustomerID         Country  GroupPrice  \n",
      "0  12/1/2010 8:26       2.55     17850.0  United Kingdom       15.30  \n",
      "1  12/1/2010 8:26       3.39     17850.0  United Kingdom       20.34  \n",
      "2  12/1/2010 8:26       2.75     17850.0  United Kingdom       22.00  \n",
      "3  12/1/2010 8:26       3.39     17850.0  United Kingdom       20.34  \n",
      "4  12/1/2010 8:26       3.39     17850.0  United Kingdom       20.34  \n"
     ]
    }
   ],
   "source": [
    "data = pd.read_csv('ecomdata.csv', encoding = 'unicode_escape')\n",
    "data['GroupPrice']=data['Quantity']*data['UnitPrice']\n",
    "data=data.dropna()\n",
    "print('The dimensions of the dataset are : ', data.shape)\n",
    "print('---------')\n",
    "print(data.head(5))"
   ]
  },
  {
   "cell_type": "code",
   "execution_count": 3,
   "metadata": {},
   "outputs": [
    {
     "name": "stdout",
     "output_type": "stream",
     "text": [
      "Dimension of the new grouped dataset :  (21788, 1)\n",
      "----------\n",
      "                                                              StockCode\n",
      "InvoiceNo CustomerID                                                   \n",
      "536365    17850.0     [84406B, 71053, 21730, 84029E, 84029G, 22752, ...\n",
      "536366    17850.0                                        [22633, 22632]\n",
      "536367    13047.0     [21755, 22748, 22622, 22749, 84879, 84969, 217...\n",
      "536368    13047.0                          [22960, 22913, 22912, 22914]\n",
      "536369    13047.0                                               [21756]\n"
     ]
    }
   ],
   "source": [
    "liste= data['StockCode'].unique()\n",
    "stock_to_del=[]\n",
    "for el in liste:\n",
    "    if el[0] not in ['1','2','3','4','5','6','7','8','9','10']: # products corresponding to gifts.\n",
    "        stock_to_del.append(el)\n",
    "\n",
    "data=data[data['StockCode'].map(lambda x: x not in stock_to_del)] # delete these products\n",
    "\n",
    "basket = data.groupby(['InvoiceNo','CustomerID']).agg({'StockCode': lambda s: list(set(s))}) # grouping product from the same invoice.\n",
    "\n",
    "print('Dimension of the new grouped dataset : ', basket.shape)\n",
    "print('----------')\n",
    "print(basket.head(5))\n"
   ]
  },
  {
   "cell_type": "code",
   "execution_count": 4,
   "metadata": {},
   "outputs": [
    {
     "name": "stdout",
     "output_type": "stream",
     "text": [
      "time to execute in seconds :  345.8799262046814  s.\n",
      "Number of rules generated :  4958\n",
      "Dimensions of the association table are :  (4958, 3)\n",
      "                                  basket next_product     proba\n",
      "202  {22919, 22921, 22920, 22917, 22916}      {22918}  0.992537\n",
      "424         {22917, 22919, 22921, 22916}      {22918}  0.986014\n",
      "306         {22917, 22921, 22918, 22920}      {22916}  0.985714\n",
      "310         {22917, 22921, 22916, 22920}      {22918}  0.985714\n",
      "96          {22917, 22919, 22921, 22920}      {22918}  0.985401\n"
     ]
    }
   ],
   "source": [
    "a=time.time()\n",
    "freqItemSet, rules = fpgrowth(basket['StockCode'].values, minSupRatio=0.005, minConf=0.3)\n",
    "b=time.time()\n",
    "print('time to execute in seconds : ',b-a, ' s.')\n",
    "print('Number of rules generated : ', len(rules))\n",
    "\n",
    "association=pd.DataFrame(rules,columns =['basket','next_product','proba'])\n",
    "association=association.sort_values(by='proba',ascending=False)\n",
    "print('Dimensions of the association table are : ', association.shape)\n",
    "print(association.head(5))"
   ]
  },
  {
   "cell_type": "code",
   "execution_count": 5,
   "metadata": {},
   "outputs": [],
   "source": [
    "def compute_next_best_product(basket_el):\n",
    "    \"\"\"\n",
    "    parameter : basket_el = list of consumer basket elements\n",
    "    return : next_pdt, proba = next product to recommend, buying probability. Or (0,0) if no product is found.\n",
    "\n",
    "\n",
    "    Description : from the basket of a user, returns the product to recommend if it was not found\n",
    "    in the list of associations of the table associated with the FP Growth model.\n",
    "    To do this, we search in the table of associations for the product to recommend from each\n",
    "    individual product in the consumer's basket.\n",
    "\n",
    "    \"\"\"\n",
    "\n",
    "    for k in basket_el:  # for each element in the consumer basket\n",
    "        k = {k}\n",
    "        if len(association[association[\n",
    "                               'basket'] == k].values) != 0:  # if we find a corresponding association in the fp growth table\n",
    "            next_pdt = list(association[association['basket'] == k]['next_product'].values[0])[\n",
    "                0]  # we take the consequent product\n",
    "            if next_pdt not in basket_el:  # We verify that the customer has not previously purchased the product\n",
    "                proba = association[association['basket'] == k]['proba'].values[0]  # Find the associated probability.\n",
    "                return (next_pdt, proba)\n",
    "\n",
    "            return (0, 0)  # return (0,0) if no product was found."
   ]
  },
  {
   "cell_type": "code",
   "execution_count": 6,
   "metadata": {},
   "outputs": [],
   "source": [
    "def find_next_product(basket):\n",
    "    \"\"\"\n",
    "    Parameter : basket = consumer basket dataframe\n",
    "    Return : list_next_pdt, list_proba = list of next elements to recommend and the buying probabilities associated.\n",
    "\n",
    "    description : Main function that uses the one above. For each client in the dataset we look for a corresponding\n",
    "    association in the Fp Growth model table. If no association is found, we call the compute_next_best_product\n",
    "    function which searches for individual product associations.\n",
    "    If no individual ssociations are found, the function returns (0,0).\n",
    "\n",
    "    \"\"\"\n",
    "    n = basket.shape[0]\n",
    "    list_next_pdt = []\n",
    "    list_proba = []\n",
    "    for i in range(n):  # for each customer\n",
    "        el = set(basket['StockCode'][i])  # customer's basket\n",
    "        if len(association[association[\n",
    "                               'basket'] == el].values) != 0:  # if we find a association in the fp growth table corresponding to all the customer's basket.\n",
    "            next_pdt = list(association[association['basket'] == el]['next_product'].values[0])[\n",
    "                0]  # We take the consequent product\n",
    "            proba = association[association['basket'] == el]['proba'].values[0]  # Probability as sociated in the table\n",
    "            list_next_pdt.append(next_pdt)\n",
    "            list_proba.append(proba)\n",
    "\n",
    "\n",
    "        elif len(association[association['basket']==el].values) ==0: # If no antecedent to all the basket was found in the table\n",
    "            next_pdt,proba= compute_next_best_product(basket['StockCode'][i]) # previous function\n",
    "            list_next_pdt.append(next_pdt)\n",
    "            list_proba.append(proba)\n",
    "\n",
    "    return(list_next_pdt, list_proba)"
   ]
  },
  {
   "cell_type": "code",
   "execution_count": 7,
   "metadata": {},
   "outputs": [
    {
     "ename": "TypeError",
     "evalue": "cannot unpack non-iterable NoneType object",
     "output_type": "error",
     "traceback": [
      "\u001b[1;31m---------------------------------------------------------------------------\u001b[0m",
      "\u001b[1;31mTypeError\u001b[0m                                 Traceback (most recent call last)",
      "\u001b[1;32m<ipython-input-7-c35214d55054>\u001b[0m in \u001b[0;36m<module>\u001b[1;34m\u001b[0m\n\u001b[0;32m      1\u001b[0m \u001b[0ma\u001b[0m\u001b[1;33m=\u001b[0m\u001b[0mtime\u001b[0m\u001b[1;33m.\u001b[0m\u001b[0mtime\u001b[0m\u001b[1;33m(\u001b[0m\u001b[1;33m)\u001b[0m\u001b[1;33m\u001b[0m\u001b[1;33m\u001b[0m\u001b[0m\n\u001b[1;32m----> 2\u001b[1;33m \u001b[0mlist_next_pdt\u001b[0m\u001b[1;33m,\u001b[0m \u001b[0mlist_proba\u001b[0m \u001b[1;33m=\u001b[0m \u001b[0mfind_next_product\u001b[0m\u001b[1;33m(\u001b[0m\u001b[0mbasket\u001b[0m\u001b[1;33m)\u001b[0m\u001b[1;33m\u001b[0m\u001b[1;33m\u001b[0m\u001b[0m\n\u001b[0m\u001b[0;32m      3\u001b[0m \u001b[0mb\u001b[0m\u001b[1;33m=\u001b[0m\u001b[0mtime\u001b[0m\u001b[1;33m.\u001b[0m\u001b[0mtime\u001b[0m\u001b[1;33m(\u001b[0m\u001b[1;33m)\u001b[0m\u001b[1;33m\u001b[0m\u001b[1;33m\u001b[0m\u001b[0m\n\u001b[0;32m      4\u001b[0m \u001b[0mprint\u001b[0m\u001b[1;33m(\u001b[0m\u001b[0mb\u001b[0m\u001b[1;33m-\u001b[0m\u001b[0ma\u001b[0m\u001b[1;33m)\u001b[0m\u001b[1;33m\u001b[0m\u001b[1;33m\u001b[0m\u001b[0m\n\u001b[0;32m      5\u001b[0m \u001b[0mbasket\u001b[0m\u001b[1;33m[\u001b[0m\u001b[1;34m'Recommended Product'\u001b[0m\u001b[1;33m]\u001b[0m\u001b[1;33m=\u001b[0m \u001b[0mlist_next_pdt\u001b[0m \u001b[1;31m# Set of recommended products\u001b[0m\u001b[1;33m\u001b[0m\u001b[1;33m\u001b[0m\u001b[0m\n",
      "\u001b[1;32m<ipython-input-6-0341632a35fc>\u001b[0m in \u001b[0;36mfind_next_product\u001b[1;34m(basket)\u001b[0m\n\u001b[0;32m     25\u001b[0m \u001b[1;33m\u001b[0m\u001b[0m\n\u001b[0;32m     26\u001b[0m         \u001b[1;32melif\u001b[0m \u001b[0mlen\u001b[0m\u001b[1;33m(\u001b[0m\u001b[0massociation\u001b[0m\u001b[1;33m[\u001b[0m\u001b[0massociation\u001b[0m\u001b[1;33m[\u001b[0m\u001b[1;34m'basket'\u001b[0m\u001b[1;33m]\u001b[0m\u001b[1;33m==\u001b[0m\u001b[0mel\u001b[0m\u001b[1;33m]\u001b[0m\u001b[1;33m.\u001b[0m\u001b[0mvalues\u001b[0m\u001b[1;33m)\u001b[0m \u001b[1;33m==\u001b[0m\u001b[1;36m0\u001b[0m\u001b[1;33m:\u001b[0m \u001b[1;31m# If no antecedent to all the basket was found in the table\u001b[0m\u001b[1;33m\u001b[0m\u001b[1;33m\u001b[0m\u001b[0m\n\u001b[1;32m---> 27\u001b[1;33m             \u001b[0mnext_pdt\u001b[0m\u001b[1;33m,\u001b[0m\u001b[0mproba\u001b[0m\u001b[1;33m=\u001b[0m \u001b[0mcompute_next_best_product\u001b[0m\u001b[1;33m(\u001b[0m\u001b[0mbasket\u001b[0m\u001b[1;33m[\u001b[0m\u001b[1;34m'StockCode'\u001b[0m\u001b[1;33m]\u001b[0m\u001b[1;33m[\u001b[0m\u001b[0mi\u001b[0m\u001b[1;33m]\u001b[0m\u001b[1;33m)\u001b[0m \u001b[1;31m# previous function\u001b[0m\u001b[1;33m\u001b[0m\u001b[1;33m\u001b[0m\u001b[0m\n\u001b[0m\u001b[0;32m     28\u001b[0m             \u001b[0mlist_next_pdt\u001b[0m\u001b[1;33m.\u001b[0m\u001b[0mappend\u001b[0m\u001b[1;33m(\u001b[0m\u001b[0mnext_pdt\u001b[0m\u001b[1;33m)\u001b[0m\u001b[1;33m\u001b[0m\u001b[1;33m\u001b[0m\u001b[0m\n\u001b[0;32m     29\u001b[0m             \u001b[0mlist_proba\u001b[0m\u001b[1;33m.\u001b[0m\u001b[0mappend\u001b[0m\u001b[1;33m(\u001b[0m\u001b[0mproba\u001b[0m\u001b[1;33m)\u001b[0m\u001b[1;33m\u001b[0m\u001b[1;33m\u001b[0m\u001b[0m\n",
      "\u001b[1;31mTypeError\u001b[0m: cannot unpack non-iterable NoneType object"
     ]
    }
   ],
   "source": [
    "a=time.time()\n",
    "list_next_pdt, list_proba = find_next_product(basket)\n",
    "b=time.time()\n",
    "print(b-a)\n",
    "basket['Recommended Product']= list_next_pdt # Set of recommended products\n",
    "basket['Probability']= list_proba # Set of rprobabilities associated\n",
    "print(basket.head(5))"
   ]
  },
  {
   "cell_type": "code",
   "execution_count": null,
   "metadata": {},
   "outputs": [],
   "source": []
  }
 ],
 "metadata": {
  "kernelspec": {
   "display_name": "Python 3",
   "language": "python",
   "name": "python3"
  },
  "language_info": {
   "codemirror_mode": {
    "name": "ipython",
    "version": 3
   },
   "file_extension": ".py",
   "mimetype": "text/x-python",
   "name": "python",
   "nbconvert_exporter": "python",
   "pygments_lexer": "ipython3",
   "version": "3.8.5"
  }
 },
 "nbformat": 4,
 "nbformat_minor": 4
}
